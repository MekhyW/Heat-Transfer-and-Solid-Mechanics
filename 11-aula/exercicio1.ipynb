{
 "cells": [
  {
   "cell_type": "code",
   "execution_count": 6,
   "metadata": {},
   "outputs": [],
   "source": [
    "# Importando Bibliotecas\n",
    "import numpy as np"
   ]
  },
  {
   "cell_type": "code",
   "execution_count": 7,
   "metadata": {},
   "outputs": [],
   "source": [
    "l = 0.4 #M\n",
    "k = 230 #W/m * °C\n",
    "c = 897 #J/kg * °C\n",
    "rho = 2700 #kg/m^3\n",
    "TMAX = 150 #°C\n",
    "TMIN = 0 #°C\n",
    "TPAREDE = 50 #°C\n",
    "deltaX = 0.01 #m\n",
    "deltaY =  deltaX\n",
    "deltaT =  1e-3\n"
   ]
  },
  {
   "cell_type": "code",
   "execution_count": 8,
   "metadata": {},
   "outputs": [
    {
     "data": {
      "text/plain": [
       "array([[[150., 150., 150., ..., 150., 150.,  50.],\n",
       "        [  0.,   0.,   0., ...,   0.,   0.,  50.],\n",
       "        [  0.,   0.,   0., ...,   0.,   0.,  50.],\n",
       "        ...,\n",
       "        [  0.,   0.,   0., ...,   0.,   0.,  50.],\n",
       "        [  0.,   0.,   0., ...,   0.,   0.,  50.],\n",
       "        [  0.,   0.,   0., ...,   0.,   0.,   0.]],\n",
       "\n",
       "       [[150., 150., 150., ..., 150., 150.,  50.],\n",
       "        [  0.,   0.,   0., ...,   0.,   0.,  50.],\n",
       "        [  0.,   0.,   0., ...,   0.,   0.,  50.],\n",
       "        ...,\n",
       "        [  0.,   0.,   0., ...,   0.,   0.,  50.],\n",
       "        [  0.,   0.,   0., ...,   0.,   0.,  50.],\n",
       "        [  0.,   0.,   0., ...,   0.,   0.,   0.]],\n",
       "\n",
       "       [[150., 150., 150., ..., 150., 150.,  50.],\n",
       "        [  0.,   0.,   0., ...,   0.,   0.,  50.],\n",
       "        [  0.,   0.,   0., ...,   0.,   0.,  50.],\n",
       "        ...,\n",
       "        [  0.,   0.,   0., ...,   0.,   0.,  50.],\n",
       "        [  0.,   0.,   0., ...,   0.,   0.,  50.],\n",
       "        [  0.,   0.,   0., ...,   0.,   0.,   0.]],\n",
       "\n",
       "       ...,\n",
       "\n",
       "       [[150., 150., 150., ..., 150., 150.,  50.],\n",
       "        [  0.,   0.,   0., ...,   0.,   0.,  50.],\n",
       "        [  0.,   0.,   0., ...,   0.,   0.,  50.],\n",
       "        ...,\n",
       "        [  0.,   0.,   0., ...,   0.,   0.,  50.],\n",
       "        [  0.,   0.,   0., ...,   0.,   0.,  50.],\n",
       "        [  0.,   0.,   0., ...,   0.,   0.,   0.]],\n",
       "\n",
       "       [[150., 150., 150., ..., 150., 150.,  50.],\n",
       "        [  0.,   0.,   0., ...,   0.,   0.,  50.],\n",
       "        [  0.,   0.,   0., ...,   0.,   0.,  50.],\n",
       "        ...,\n",
       "        [  0.,   0.,   0., ...,   0.,   0.,  50.],\n",
       "        [  0.,   0.,   0., ...,   0.,   0.,  50.],\n",
       "        [  0.,   0.,   0., ...,   0.,   0.,   0.]],\n",
       "\n",
       "       [[150., 150., 150., ..., 150., 150.,  50.],\n",
       "        [  0.,   0.,   0., ...,   0.,   0.,  50.],\n",
       "        [  0.,   0.,   0., ...,   0.,   0.,  50.],\n",
       "        ...,\n",
       "        [  0.,   0.,   0., ...,   0.,   0.,  50.],\n",
       "        [  0.,   0.,   0., ...,   0.,   0.,  50.],\n",
       "        [  0.,   0.,   0., ...,   0.,   0.,   0.]]])"
      ]
     },
     "execution_count": 8,
     "metadata": {},
     "output_type": "execute_result"
    }
   ],
   "source": [
    "Tempo = int(10/deltaT) + 1\n",
    "tamanhoX = int(l/deltaX) + 1\n",
    "tamanhoY = int(l/deltaY) + 1\n",
    "Temp = np.zeros((Tempo,tamanhoX,tamanhoY))\n",
    "Temp[:,0,:] = TMAX\n",
    "Temp[:,:,-1] = TPAREDE\n",
    "Temp[:,-1,:] = TMIN\n",
    "Temp"
   ]
  },
  {
   "cell_type": "code",
   "execution_count": 9,
   "metadata": {},
   "outputs": [
    {
     "name": "stderr",
     "output_type": "stream",
     "text": [
      "/var/folders/fl/8j680t3n413cg9j10mbh8xnm0000gn/T/ipykernel_25699/1866941647.py:5: RuntimeWarning: overflow encountered in scalar multiply\n",
      "  Temp[t + 1][i][j] = a * (-4*Temp[t,i,j] + Temp[t][i][j+1] + Temp[t][i][j-1] + Temp[t][i+1][j] + Temp[t][i-1][j]) + Temp[t][i][j]\n",
      "/var/folders/fl/8j680t3n413cg9j10mbh8xnm0000gn/T/ipykernel_25699/1866941647.py:5: RuntimeWarning: invalid value encountered in scalar add\n",
      "  Temp[t + 1][i][j] = a * (-4*Temp[t,i,j] + Temp[t][i][j+1] + Temp[t][i][j-1] + Temp[t][i+1][j] + Temp[t][i-1][j]) + Temp[t][i][j]\n",
      "/var/folders/fl/8j680t3n413cg9j10mbh8xnm0000gn/T/ipykernel_25699/1866941647.py:5: RuntimeWarning: overflow encountered in scalar add\n",
      "  Temp[t + 1][i][j] = a * (-4*Temp[t,i,j] + Temp[t][i][j+1] + Temp[t][i][j-1] + Temp[t][i+1][j] + Temp[t][i-1][j]) + Temp[t][i][j]\n"
     ]
    }
   ],
   "source": [
    "a = (k * deltaT) / np.power(deltaX, 2)\n",
    "for t in range(1, Tempo -1):\n",
    "    for i in range(1, tamanhoX - 1):\n",
    "        for j in range(1, tamanhoY - 1):\n",
    "            Temp[t + 1][i][j] = a * (-4*Temp[t,i,j] + Temp[t][i][j+1] + Temp[t][i][j-1] + Temp[t][i+1][j] + Temp[t][i-1][j]) + Temp[t][i][j]"
   ]
  },
  {
   "cell_type": "code",
   "execution_count": 12,
   "metadata": {},
   "outputs": [
    {
     "data": {
      "text/plain": [
       "array([[150., 150., 150., ..., 150., 150.,  50.],\n",
       "       [  0.,  nan,  nan, ...,  nan,  nan,  50.],\n",
       "       [  0.,  nan,  nan, ...,  nan,  nan,  50.],\n",
       "       ...,\n",
       "       [  0.,  nan,  nan, ...,  nan,  nan,  50.],\n",
       "       [  0.,  nan,  nan, ...,  nan,  nan,  50.],\n",
       "       [  0.,   0.,   0., ...,   0.,   0.,   0.]])"
      ]
     },
     "execution_count": 12,
     "metadata": {},
     "output_type": "execute_result"
    }
   ],
   "source": [
    "Temp[-1]"
   ]
  }
 ],
 "metadata": {
  "kernelspec": {
   "display_name": "env",
   "language": "python",
   "name": "python3"
  },
  "language_info": {
   "codemirror_mode": {
    "name": "ipython",
    "version": 3
   },
   "file_extension": ".py",
   "mimetype": "text/x-python",
   "name": "python",
   "nbconvert_exporter": "python",
   "pygments_lexer": "ipython3",
   "version": "3.10.9"
  },
  "orig_nbformat": 4
 },
 "nbformat": 4,
 "nbformat_minor": 2
}
