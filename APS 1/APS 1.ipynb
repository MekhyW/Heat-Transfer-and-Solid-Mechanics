{
 "cells": [
  {
   "attachments": {},
   "cell_type": "markdown",
   "metadata": {},
   "source": [
    "# APS1 TRANSCAL\n",
    "## Insper | 5 semestre\n",
    "### Alunos: Antônio, Ariel, Arthur Barreto e Felipe "
   ]
  },
  {
   "cell_type": "code",
   "execution_count": 11,
   "metadata": {},
   "outputs": [],
   "source": [
    "# definindo os modelos para transferencia de calos\n",
    "# a haleta não é infinita, não pode ser caso D\n",
    "# não é adiabatica, não pode ser  b\n",
    "# a temperatura não é especificada, logo não é caso C\n",
    "# portotanto, temos convecção, caso A\n",
    "\n",
    "import numpy as np\n",
    "import matplotlib.pyplot as plt"
   ]
  },
  {
   "cell_type": "code",
   "execution_count": 12,
   "metadata": {},
   "outputs": [],
   "source": [
    "def calcula_m(h,P,k,A):\n",
    "    return np.sqrt(np.divide(h*P,k*A))\n",
    "\n",
    "def calcula_M(h,P,k,A,tb,t_inf):\n",
    "    return np.sqrt(np.divide(h*P,k*A))*(tb-t_inf)\n",
    "\n",
    "def distribuicao_temperatura_caso_a(m,L,x,h,k,tb,t_inf):\n",
    "    numerador = np.cosh(m*(L-x)) + np.divide(h,m*k)*np.sinh(m*(L-x))\n",
    "    denominador = np.cosh(m*L) + np.divide(h,m*k)*np.sinh(m*L)\n",
    "    razao = np.divide(numerador,denominador)\n",
    "    # comverter a temperatura\n",
    "    return np.multiply(razao,(tb-t_inf)) + t_inf\n",
    "\n",
    "def transferencia_calor_caso_a(M,m,L,h,k):\n",
    "    numerador = np.sinh(m*L) + np.divide(h,m*k)*np.cosh(m*L)\n",
    "    denominador = np.cosh(m*L) + np.divide(h,m*k)*np.sinh(m*L)\n",
    "    return np.multiply(M,np.divide(numerador,denominador))"
   ]
  },
  {
   "attachments": {},
   "cell_type": "markdown",
   "metadata": {},
   "source": [
    "## Questão 1\n",
    "### Exercício A"
   ]
  },
  {
   "cell_type": "code",
   "execution_count": 13,
   "metadata": {},
   "outputs": [],
   "source": [
    "# dados do problema\n",
    "k_al = 240 # W/mK\n",
    "t_s = 100 + 273.15 # K\n",
    "t_amb = 25 + 273.15 # K\n",
    "w = 240e-3 # m\n",
    "t = 20e-3 # m\n",
    "h_conv = 20 # W/mK\n",
    "L = 200e-3 # m\n",
    "\n",
    "# calculos\n",
    "perimetro = 2*w + 2*t\n",
    "area = w*t"
   ]
  },
  {
   "cell_type": "code",
   "execution_count": 14,
   "metadata": {},
   "outputs": [],
   "source": [
    "m = calcula_m(h_conv,perimetro,k_al,area)\n",
    "lista_x = np.arange(0,L,0.001)\n",
    "lista_t = []\n",
    "for i in range(len(lista_x)):\n",
    "    lista_t.append(distribuicao_temperatura_caso_a(m,L,lista_x[i],h_conv,k_al,t_s,t_amb))"
   ]
  },
  {
   "cell_type": "code",
   "execution_count": 15,
   "metadata": {},
   "outputs": [
    {
     "data": {
      "text/plain": [
       "Text(0.5, 1.0, 'Distribuição de temperatura')"
      ]
     },
     "execution_count": 15,
     "metadata": {},
     "output_type": "execute_result"
    },
    {
     "data": {
      "image/png": "[encoded data removed]",
      "text/plain": [
       "<Figure size 640x480 with 1 Axes>"
      ]
     },
     "metadata": {},
     "output_type": "display_data"
    }
   ],
   "source": [
    "# plot dp grafico\n",
    "plt.plot(lista_x,lista_t)\n",
    "plt.xlabel('x (m)')\n",
    "plt.ylabel('T (K)')\n",
    "plt.title('Distribuição de temperatura')"
   ]
  },
  {
   "cell_type": "code",
   "execution_count": 16,
   "metadata": {},
   "outputs": [
    {
     "name": "stdout",
     "output_type": "stream",
     "text": [
      "Temperatura na extremidade: 360.461 K\n"
     ]
    }
   ],
   "source": [
    "# temperatura na extremidade\n",
    "print(f'Temperatura na extremidade: {lista_t[-1]:.3f} K')"
   ]
  },
  {
   "attachments": {},
   "cell_type": "markdown",
   "metadata": {},
   "source": [
    "### Exercício B"
   ]
  },
  {
   "cell_type": "code",
   "execution_count": 17,
   "metadata": {},
   "outputs": [
    {
     "name": "stdout",
     "output_type": "stream",
     "text": [
      "Fluxo de calor: 125.548 W\n"
     ]
    }
   ],
   "source": [
    "M = calcula_M(h_conv,perimetro,k_al,area,t_s,t_amb)\n",
    "q_a = transferencia_calor_caso_a(M,m,L,h_conv,k_al)\n",
    "print(f'Fluxo de calor: {q_a:.3f} W')"
   ]
  },
  {
   "attachments": {},
   "cell_type": "markdown",
   "metadata": {},
   "source": [
    "## Exercício C"
   ]
  },
  {
   "cell_type": "code",
   "execution_count": 18,
   "metadata": {},
   "outputs": [],
   "source": [
    "def eficiencia(qa,h,area_superficie,t_s,t_inf):\n",
    "    return np.divide(qa,(h*area_superficie*(t_s-t_inf)))\n",
    "\n",
    "def efetividade(qa,h,area_base,t_s,t_inf):\n",
    "    return np.divide(qa,(h*area_base*(t_s-t_inf)))"
   ]
  },
  {
   "cell_type": "code",
   "execution_count": 19,
   "metadata": {},
   "outputs": [
    {
     "name": "stdout",
     "output_type": "stream",
     "text": [
      "Eficiencia: 0.769\n"
     ]
    }
   ],
   "source": [
    "# calculando a eficiencia da aleta\n",
    "area_superficie = w*t + 2*t*L + 2*L*w\n",
    "area_base = w*t\n",
    "print(f'Eficiencia: {eficiencia(q_a,h_conv,area_superficie,t_s,t_amb):.3f}')"
   ]
  },
  {
   "attachments": {},
   "cell_type": "markdown",
   "metadata": {},
   "source": [
    "### Exercício D"
   ]
  },
  {
   "cell_type": "code",
   "execution_count": 20,
   "metadata": {},
   "outputs": [
    {
     "name": "stdout",
     "output_type": "stream",
     "text": [
      "Efetividade: 17.437\n"
     ]
    }
   ],
   "source": [
    "#calculando a efetividade\n",
    "print(f'Efetividade: {efetividade(q_a,h_conv,area_base,t_s,t_amb):.3f}')"
   ]
  },
  {
   "attachments": {},
   "cell_type": "markdown",
   "metadata": {},
   "source": [
    "### Exercício E"
   ]
  },
  {
   "cell_type": "code",
   "execution_count": 21,
   "metadata": {},
   "outputs": [],
   "source": [
    "# metodos para caso d, aleta infinita\n",
    "\n",
    "def distribuicao_temperatura_caso_d(m,x, tb, t_inf):\n",
    "    aux = np.exp(-m*x)\n",
    "    # convertendo a temperatura\n",
    "    return np.multiply(aux,(tb-t_inf)) + t_inf\n",
    "\n",
    "def transferencia_calor_caso_d(M):\n",
    "    return M"
   ]
  },
  {
   "cell_type": "code",
   "execution_count": 22,
   "metadata": {},
   "outputs": [
    {
     "name": "stdout",
     "output_type": "stream",
     "text": [
      "Fluxo de calor: 225.347 W\n"
     ]
    }
   ],
   "source": [
    "q_d = transferencia_calor_caso_d(M)\n",
    "print(f'Fluxo de calor: {q_d:.3f} W')"
   ]
  },
  {
   "cell_type": "code",
   "execution_count": 23,
   "metadata": {},
   "outputs": [
    {
     "data": {
      "image/png": "[encoded data removed]",
      "text/plain": [
       "<Figure size 640x480 with 1 Axes>"
      ]
     },
     "metadata": {},
     "output_type": "display_data"
    }
   ],
   "source": [
    "lista_t_d = []\n",
    "for i in range(len(lista_x)):\n",
    "    lista_t_d.append(distribuicao_temperatura_caso_d(m,lista_x[i],t_s,t_amb))\n",
    "\n",
    "# plot dp grafico\n",
    "plt.plot(lista_x,lista_t_d)\n",
    "plt.xlabel('x (m)')\n",
    "plt.ylabel('T (K)')\n",
    "plt.title('Distribuição de temperatura (aleta infinita)')\n",
    "plt.show()"
   ]
  },
  {
   "cell_type": "code",
   "execution_count": 24,
   "metadata": {},
   "outputs": [
    {
     "name": "stdout",
     "output_type": "stream",
     "text": [
      "Temperatura na extremidade: 339.397 K\n"
     ]
    }
   ],
   "source": [
    "# a temperatura na extremidade é \n",
    "temperatura_extremidade_caso_d = lista_t_d[-1]\n",
    "print(f'Temperatura na extremidade: {temperatura_extremidade_caso_d:.3f} K')"
   ]
  },
  {
   "attachments": {},
   "cell_type": "markdown",
   "metadata": {},
   "source": [
    "### Exercício F"
   ]
  },
  {
   "cell_type": "code",
   "execution_count": 25,
   "metadata": {},
   "outputs": [
    {
     "name": "stdout",
     "output_type": "stream",
     "text": [
      "Razão entre os fluxos de calor: 1.795\n"
     ]
    }
   ],
   "source": [
    "razao_item_2_item_5 = np.divide(q_d,q_a)\n",
    "print(f'Razão entre os fluxos de calor: {razao_item_2_item_5:.3f}')\n",
    "# mesmo considerando a aleta infinita, o ganho não foi considerável em relação ao caso a"
   ]
  },
  {
   "attachments": {},
   "cell_type": "markdown",
   "metadata": {},
   "source": [
    "### Exercício G\n",
    "\n",
    "A fim de calcular qual o comprimento da aleta para que a hipotese de aleta infinita forneca a medida correta da taxa de transferencia de calor, ha necessidade de compararmos e iterarmos em um while loop, com uma taxa de erro epsilon. Este loop ira aumentando o comprimento ate a temperatura na extremidade do corpo ser igual (com certa taxa de erro) a temperatura calculada anteriormente."
   ]
  },
  {
   "cell_type": "code",
   "execution_count": 26,
   "metadata": {},
   "outputs": [
    {
     "name": "stdout",
     "output_type": "stream",
     "text": [
      "Temperatura na extremidade: 339.397 K\n",
      "Comprimento: 4.299 m\n"
     ]
    }
   ],
   "source": [
    "# vamos estimar um novo valor para L de tal forma que a temperatura da extremidade seja igual no caso da aleta infinita\n",
    "epsilon = 1e-5\n",
    "comprimento = 0\n",
    "\n",
    "while(True):\n",
    "    area_superficie_infinita = w*t + 2*t*comprimento + 2*comprimento*w\n",
    "    m = calcula_m(h_conv,perimetro,k_al,area_superficie_infinita)\n",
    "    temp = distribuicao_temperatura_caso_d(m,comprimento,t_s,t_amb)\n",
    "    if(temp - lista_t_d[-1] < epsilon):\n",
    "        print(f'Temperatura na extremidade: {temp:.3f} K')\n",
    "        break\n",
    "    comprimento += epsilon\n",
    "print(f'Comprimento: {comprimento:.3f} m')"
   ]
  },
  {
   "attachments": {},
   "cell_type": "markdown",
   "metadata": {},
   "source": [
    "## Questão 2\n",
    "### Exercício 1\n",
    "\n",
    "<p> A questão 1 se encontra no pdf aps1.pdf"
   ]
  },
  {
   "attachments": {},
   "cell_type": "markdown",
   "metadata": {},
   "source": [
    "### Exercício 2"
   ]
  },
  {
   "cell_type": "code",
   "execution_count": 29,
   "metadata": {},
   "outputs": [],
   "source": [
    "def calcula_kb(Tb,Tinf,TA,TB,ka):\n",
    "    const = np.power(np.divide(np.log(Tb-Tinf)-np.log(TA-Tinf),np.log(Tb-Tinf)-np.log(TB-Tinf)),2)\n",
    "    return np.multiply(ka,const)"
   ]
  },
  {
   "cell_type": "code",
   "execution_count": 30,
   "metadata": {},
   "outputs": [],
   "source": [
    "# definindo os dados\n",
    "ka = 240 # W/m^2K\n",
    "TA = 75 + 273.15 # K\n",
    "Tinf = 25 + 273.15 # K\n",
    "Tb = 100 + 273.15 # K\n",
    "TB = 60 + 273.15 # K"
   ]
  },
  {
   "cell_type": "code",
   "execution_count": 31,
   "metadata": {},
   "outputs": [
    {
     "name": "stdout",
     "output_type": "stream",
     "text": [
      "kb: 67.928 W/m^2K\n"
     ]
    }
   ],
   "source": [
    "kb = calcula_kb(Tb,Tinf,TA,TB,ka)\n",
    "print(f'kb: {kb:.3f} W/m^2K')"
   ]
  }
 ],
 "metadata": {
  "kernelspec": {
   "display_name": "base",
   "language": "python",
   "name": "python3"
  },
  "language_info": {
   "codemirror_mode": {
    "name": "ipython",
    "version": 3
   },
   "file_extension": ".py",
   "mimetype": "text/x-python",
   "name": "python",
   "nbconvert_exporter": "python",
   "pygments_lexer": "ipython3",
   "version": "3.9.13"
  },
  "orig_nbformat": 4
 },
 "nbformat": 4,
 "nbformat_minor": 2
}
