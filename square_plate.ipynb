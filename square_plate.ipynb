{
 "cells": [
  {
   "cell_type": "code",
   "execution_count": 1,
   "metadata": {},
   "outputs": [],
   "source": [
    "import matplotlib.pyplot as plt\n",
    "import numpy as np"
   ]
  },
  {
   "cell_type": "code",
   "execution_count": 2,
   "metadata": {},
   "outputs": [],
   "source": [
    "alpha = 0.25 # Mˆ2/s\n",
    "l = 0.5\n",
    "deltaX = 0.1 # cm\n",
    "deltaY = 0.1 # cm\n",
    "deltaT = 1e-2 # s\n",
    "T0 = 100 # °C\n",
    "T10 = 50 # °C\n",
    "TMax = 10"
   ]
  },
  {
   "cell_type": "code",
   "execution_count": 3,
   "metadata": {},
   "outputs": [],
   "source": [
    "def calculaTemp(Temp, t, l, c):\n",
    "    diferencialX = (Temp[t][l+1][c] +  Temp[t][l-1][c] - 2 * Temp[t, l,c]) / np.power(deltaX, 2)\n",
    "    diferencialY = (Temp[t][l][c+1] +  Temp[t][l][c-1] - 2 * Temp[t, l,c]) / np.power(deltaY, 2)\n",
    "    return diferencialX + diferencialY"
   ]
  },
  {
   "cell_type": "code",
   "execution_count": 4,
   "metadata": {},
   "outputs": [],
   "source": [
    "Tempo = int(10/deltaT)\n",
    "tamanhoX = int(l/deltaX) + 1\n",
    "tamanhoY = int(l/deltaY) + 1\n",
    "Temp = np.zeros((Tempo,tamanhoX,tamanhoY))\n",
    "Temp[:,0,:] = 100"
   ]
  },
  {
   "cell_type": "code",
   "execution_count": 5,
   "metadata": {},
   "outputs": [],
   "source": [
    "constante = alpha * deltaT\n",
    "for t in range(1, Tempo -1):\n",
    "    for i in range(1, tamanhoX - 1):\n",
    "        for j in range(1, tamanhoY - 1):\n",
    "            Temp[t + 1][i][j] = Temp[t][i][j] + calculaTemp(Temp, t, i, j) * constante"
   ]
  },
  {
   "cell_type": "code",
   "execution_count": 6,
   "metadata": {},
   "outputs": [
    {
     "data": {
      "image/png": "[encoded data removed]",
      "text/plain": [
       "<Figure size 480x480 with 1 Axes>"
      ]
     },
     "metadata": {},
     "output_type": "display_data"
    }
   ],
   "source": [
    "plt.matshow(Temp[-1,:,:])\n",
    "plt.show()"
   ]
  }
 ],
 "metadata": {
  "kernelspec": {
   "display_name": "env",
   "language": "python",
   "name": "python3"
  },
  "language_info": {
   "codemirror_mode": {
    "name": "ipython",
    "version": 3
   },
   "file_extension": ".py",
   "mimetype": "text/x-python",
   "name": "python",
   "nbconvert_exporter": "python",
   "pygments_lexer": "ipython3",
   "version": "3.11.0"
  },
  "orig_nbformat": 4
 },
 "nbformat": 4,
 "nbformat_minor": 2
}
